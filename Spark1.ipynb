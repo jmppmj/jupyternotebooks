{
 "cells": [
  {
   "cell_type": "code",
   "execution_count": 2,
   "metadata": {},
   "outputs": [],
   "source": [
    "from pyspark import SparkContext, SparkConf\n",
    "from pyspark.sql import SparkSession\n",
    "from pyspark.sql import SQLContext\n",
    "from pyspark.ml.clustering import KMeans\n",
    "from pyspark.ml.clustering import BisectingKMeans\n",
    "from pyspark.ml.feature import VectorAssembler"
   ]
  },
  {
   "cell_type": "code",
   "execution_count": 3,
   "metadata": {},
   "outputs": [],
   "source": [
    "sqlContext = SQLContext(sc)"
   ]
  },
  {
   "cell_type": "code",
   "execution_count": null,
   "metadata": {},
   "outputs": [],
   "source": [
    "df = sqlContext.read.csv('netflow_day-11', header=None)\n",
    "df.printSchema()"
   ]
  },
  {
   "cell_type": "code",
   "execution_count": null,
   "metadata": {},
   "outputs": [],
   "source": [
    "df1 = df.withColumnRenamed(\"_c0\", \"Time\").withColumnRenamed(\"_c1\", \"Duration\").withColumnRenamed(\"_c2\", \"SrcDevice\").withColumnRenamed(\"_c3\", \"DstDevice\").withColumnRenamed(\"_c4\", \"Protocol\").withColumnRenamed(\"_c5\", \"SrcPort\").withColumnRenamed(\"_c6\", \"DstPort\").withColumnRenamed(\"_c7\", \"SrcPackets\").withColumnRenamed(\"_c8\", \"DstPackets\").withColumnRenamed(\"_c9\", \"SrcBytes\").withColumnRenamed(\"_c10\", \"DstBytes\")"
   ]
  },
  {
   "cell_type": "code",
   "execution_count": null,
   "metadata": {},
   "outputs": [],
   "source": [
    "df1.printSchema()"
   ]
  },
  {
   "cell_type": "code",
   "execution_count": null,
   "metadata": {},
   "outputs": [],
   "source": [
    "df2 = df1.select(df1.Duration.cast(\"double\"), \n",
    "df1.SrcPackets.cast(\"double\"), \n",
    "df1.DstPackets.cast(\"double\"),\n",
    "df1.SrcBytes.cast(\"double\"),\n",
    "df1.DstBytes.cast(\"double\"))"
   ]
  },
  {
   "cell_type": "code",
   "execution_count": null,
   "metadata": {},
   "outputs": [],
   "source": [
    "df2.printSchema()"
   ]
  },
  {
   "cell_type": "code",
   "execution_count": null,
   "metadata": {},
   "outputs": [],
   "source": [
    "df2.take(5)"
   ]
  },
  {
   "cell_type": "code",
   "execution_count": null,
   "metadata": {},
   "outputs": [],
   "source": [
    "assembler = VectorAssembler(inputCols=[\"Duration\", \"SrcPackets\", \"DstPackets\", \"SrcBytes\", \"DstBytes\"],outputCol=\"featureVector\")\n",
    "output = assembler.transform(df2)"
   ]
  },
  {
   "cell_type": "code",
   "execution_count": null,
   "metadata": {},
   "outputs": [],
   "source": [
    "kmeans1 = KMeans().setK(5).setFeaturesCol(\"featureVector\").setPredictionCol(\"cluster\")\n",
    "model1 = kmeans1.fit(output)"
   ]
  },
  {
   "cell_type": "code",
   "execution_count": null,
   "metadata": {},
   "outputs": [],
   "source": [
    "centers = model1.clusterCenters()\n",
    "print(\"Cluster Centers: \")\n",
    "for center in centers:\n",
    "    print(center)"
   ]
  },
  {
   "cell_type": "code",
   "execution_count": null,
   "metadata": {},
   "outputs": [],
   "source": [
    "bikmeans1 = BisectingKMeans().setK(5).setFeaturesCol(\"featureVector\").setPredictionCol(\"cluster\")\n",
    "model2 = bikmeans1.fit(output)"
   ]
  },
  {
   "cell_type": "code",
   "execution_count": null,
   "metadata": {},
   "outputs": [],
   "source": [
    "centers2 = model2.clusterCenters()\n",
    "print(\"Cluster Centers: \")\n",
    "for center in centers2:\n",
    "    print(center)"
   ]
  },
  {
   "cell_type": "code",
   "execution_count": 4,
   "metadata": {},
   "outputs": [
    {
     "name": "stdout",
     "output_type": "stream",
     "text": [
      "root\n",
      " |-- AuthenticationPackage: string (nullable = true)\n",
      " |-- Destination: string (nullable = true)\n",
      " |-- DomainName: string (nullable = true)\n",
      " |-- EventID: long (nullable = true)\n",
      " |-- FailureReason: string (nullable = true)\n",
      " |-- LogHost: string (nullable = true)\n",
      " |-- LogonID: string (nullable = true)\n",
      " |-- LogonType: long (nullable = true)\n",
      " |-- LogonTypeDescription: string (nullable = true)\n",
      " |-- ParentProcessID: string (nullable = true)\n",
      " |-- ParentProcessName: string (nullable = true)\n",
      " |-- ProcessID: string (nullable = true)\n",
      " |-- ProcessName: string (nullable = true)\n",
      " |-- ServiceName: string (nullable = true)\n",
      " |-- Source: string (nullable = true)\n",
      " |-- Status: string (nullable = true)\n",
      " |-- SubjectDomainName: string (nullable = true)\n",
      " |-- SubjectLogonID: string (nullable = true)\n",
      " |-- SubjectUserName: string (nullable = true)\n",
      " |-- Time: long (nullable = true)\n",
      " |-- UserName: string (nullable = true)\n",
      "\n"
     ]
    }
   ],
   "source": [
    "dfN = sqlContext.read.json('wls_day-11')\n",
    "dfN.printSchema()"
   ]
  },
  {
   "cell_type": "code",
   "execution_count": 5,
   "metadata": {},
   "outputs": [
    {
     "data": {
      "text/plain": [
       "83183265"
      ]
     },
     "execution_count": 5,
     "metadata": {},
     "output_type": "execute_result"
    }
   ],
   "source": [
    "dfN.count()"
   ]
  },
  {
   "cell_type": "code",
   "execution_count": 6,
   "metadata": {},
   "outputs": [],
   "source": [
    "dfN.createOrReplaceTempView(\"someData\")"
   ]
  },
  {
   "cell_type": "code",
   "execution_count": 7,
   "metadata": {},
   "outputs": [
    {
     "name": "stdout",
     "output_type": "stream",
     "text": [
      "+-------+------+\n",
      "|EventID| count|\n",
      "+-------+------+\n",
      "|   4625|356966|\n",
      "+-------+------+\n",
      "\n"
     ]
    }
   ],
   "source": [
    "someData1 = sqlContext.sql(\"SELECT * FROM someData WHERE EventID = 4625\").groupBy(\"EventID\").count().show()"
   ]
  },
  {
   "cell_type": "code",
   "execution_count": 8,
   "metadata": {},
   "outputs": [
    {
     "name": "stdout",
     "output_type": "stream",
     "text": [
      "+-------+-----+\n",
      "|EventID|count|\n",
      "+-------+-----+\n",
      "|   4609|   21|\n",
      "+-------+-----+\n",
      "\n"
     ]
    }
   ],
   "source": [
    "someData2 = sqlContext.sql(\"SELECT * FROM someData WHERE EventID = 4609\").groupBy(\"EventID\").count().show()"
   ]
  }
 ],
 "metadata": {
  "kernelspec": {
   "display_name": "Python 3",
   "language": "python",
   "name": "python3"
  },
  "language_info": {
   "codemirror_mode": {
    "name": "ipython",
    "version": 3
   },
   "file_extension": ".py",
   "mimetype": "text/x-python",
   "name": "python",
   "nbconvert_exporter": "python",
   "pygments_lexer": "ipython3",
   "version": "3.7.0"
  }
 },
 "nbformat": 4,
 "nbformat_minor": 2
}
