{
 "cells": [
  {
   "cell_type": "markdown",
   "metadata": {},
   "source": [
    "Two-Class Classification: classifies movie reviews as positive or negative."
   ]
  },
  {
   "cell_type": "markdown",
   "metadata": {},
   "source": [
    "Uses: IMDB dataset, 50,000 movie reviews. This dataset comes packaged with TensorFlow."
   ]
  },
  {
   "cell_type": "markdown",
   "metadata": {},
   "source": [
    "The dataset has already been preprocessed such that the reviews (sequences of words) have been converted to sequences of integers, where each integer represents a specific word in a dictionary."
   ]
  },
  {
   "cell_type": "markdown",
   "metadata": {},
   "source": [
    "Implemented following this google tutorial: https://www.tensorflow.org/tutorials/keras/basic_text_classification"
   ]
  },
  {
   "cell_type": "code",
   "execution_count": 1,
   "metadata": {},
   "outputs": [
    {
     "name": "stdout",
     "output_type": "stream",
     "text": [
      "1.12.0\n"
     ]
    }
   ],
   "source": [
    "from __future__ import absolute_import, division, print_function\n",
    "\n",
    "#uses keras - a high-level api to build and train models in tensorflow\n",
    "import tensorflow as tf\n",
    "from tensorflow import keras\n",
    "\n",
    "#uses numpy - adds support for large, multi-dimensional arrays and matrices,\n",
    "#along with a large collection of high-level mathematical functions to operate on these arrays\n",
    "import numpy as np\n",
    "\n",
    "print(tf.__version__)"
   ]
  },
  {
   "cell_type": "code",
   "execution_count": 2,
   "metadata": {},
   "outputs": [
    {
     "name": "stdout",
     "output_type": "stream",
     "text": [
      "Downloading data from https://storage.googleapis.com/tensorflow/tf-keras-datasets/imdb.npz\n",
      "17465344/17464789 [==============================] - 1s 0us/step\n"
     ]
    }
   ],
   "source": [
    "#downloads the IMDB dataset to your machine or uses a cached copy if you've already downloaded it\n",
    "imdb = keras.datasets.imdb\n",
    "\n",
    "#keeps the top 10,000 most frequently occurring words in the training data\n",
    "(train_data, train_labels), (test_data, test_labels) = imdb.load_data(num_words=10000)"
   ]
  },
  {
   "cell_type": "code",
   "execution_count": 3,
   "metadata": {},
   "outputs": [
    {
     "name": "stdout",
     "output_type": "stream",
     "text": [
      "Training entries: 25000, labels: 25000\n"
     ]
    }
   ],
   "source": [
    "#each example is an array of integers representing the words of the movie review\n",
    "#each label is an integer value of either 0 or 1, where 0 is a negative review, \n",
    "#and 1 is a positive review\n",
    "print(\"Training entries: {}, labels: {}\".format(len(train_data), len(train_labels)))"
   ]
  },
  {
   "cell_type": "code",
   "execution_count": 4,
   "metadata": {},
   "outputs": [
    {
     "name": "stdout",
     "output_type": "stream",
     "text": [
      "[1, 14, 22, 16, 43, 530, 973, 1622, 1385, 65, 458, 4468, 66, 3941, 4, 173, 36, 256, 5, 25, 100, 43, 838, 112, 50, 670, 2, 9, 35, 480, 284, 5, 150, 4, 172, 112, 167, 2, 336, 385, 39, 4, 172, 4536, 1111, 17, 546, 38, 13, 447, 4, 192, 50, 16, 6, 147, 2025, 19, 14, 22, 4, 1920, 4613, 469, 4, 22, 71, 87, 12, 16, 43, 530, 38, 76, 15, 13, 1247, 4, 22, 17, 515, 17, 12, 16, 626, 18, 2, 5, 62, 386, 12, 8, 316, 8, 106, 5, 4, 2223, 5244, 16, 480, 66, 3785, 33, 4, 130, 12, 16, 38, 619, 5, 25, 124, 51, 36, 135, 48, 25, 1415, 33, 6, 22, 12, 215, 28, 77, 52, 5, 14, 407, 16, 82, 2, 8, 4, 107, 117, 5952, 15, 256, 4, 2, 7, 3766, 5, 723, 36, 71, 43, 530, 476, 26, 400, 317, 46, 7, 4, 2, 1029, 13, 104, 88, 4, 381, 15, 297, 98, 32, 2071, 56, 26, 141, 6, 194, 7486, 18, 4, 226, 22, 21, 134, 476, 26, 480, 5, 144, 30, 5535, 18, 51, 36, 28, 224, 92, 25, 104, 4, 226, 65, 16, 38, 1334, 88, 12, 16, 283, 5, 16, 4472, 113, 103, 32, 15, 16, 5345, 19, 178, 32]\n"
     ]
    }
   ],
   "source": [
    "#the text of reviews have been converted to integers, \n",
    "#where each integer represents a specific word in a dictionary\n",
    "print(train_data[0])"
   ]
  },
  {
   "cell_type": "code",
   "execution_count": 5,
   "metadata": {},
   "outputs": [
    {
     "data": {
      "text/plain": [
       "(218, 189)"
      ]
     },
     "execution_count": 5,
     "metadata": {},
     "output_type": "execute_result"
    }
   ],
   "source": [
    "#number of words in the first and second reviews\n",
    "#unequal - inputs to a neural network must be the same length, so this must be resolved\n",
    "len(train_data[0]), len(train_data[1])"
   ]
  },
  {
   "cell_type": "markdown",
   "metadata": {},
   "source": [
    "Convert the integers back to words.\n",
    "\n",
    "Additionally, the movie reviews must be the same length, so the pad_sequences function is used to standardize the lengths."
   ]
  },
  {
   "cell_type": "code",
   "execution_count": 7,
   "metadata": {},
   "outputs": [
    {
     "name": "stdout",
     "output_type": "stream",
     "text": [
      "Downloading data from https://storage.googleapis.com/tensorflow/tf-keras-datasets/imdb_word_index.json\n",
      "1646592/1641221 [==============================] - 0s 0us/step\n"
     ]
    }
   ],
   "source": [
    "# A dictionary mapping words to an integer index\n",
    "word_index = imdb.get_word_index()\n",
    "\n",
    "# The first indices are reserved\n",
    "word_index = {k:(v+3) for k,v in word_index.items()} \n",
    "word_index[\"<PAD>\"] = 0\n",
    "word_index[\"<START>\"] = 1\n",
    "word_index[\"<UNK>\"] = 2  # unknown\n",
    "word_index[\"<UNUSED>\"] = 3\n",
    "\n",
    "reverse_word_index = dict([(value, key) for (key, value) in word_index.items()])\n",
    "\n",
    "def decode_review(text):\n",
    "    return ' '.join([reverse_word_index.get(i, '?') for i in text])"
   ]
  },
  {
   "cell_type": "code",
   "execution_count": 8,
   "metadata": {},
   "outputs": [],
   "source": [
    "train_data = keras.preprocessing.sequence.pad_sequences(train_data,\n",
    "                                                        value=word_index[\"<PAD>\"],\n",
    "                                                        padding='post',\n",
    "                                                        maxlen=256)\n",
    "\n",
    "test_data = keras.preprocessing.sequence.pad_sequences(test_data,\n",
    "                                                       value=word_index[\"<PAD>\"],\n",
    "                                                       padding='post',\n",
    "                                                       maxlen=256)"
   ]
  },
  {
   "cell_type": "markdown",
   "metadata": {},
   "source": [
    "The neural network is created by stacking layers. The input data consists of an array of word-indices. The labels to predict are either 0 or 1."
   ]
  },
  {
   "cell_type": "code",
   "execution_count": 9,
   "metadata": {},
   "outputs": [
    {
     "name": "stdout",
     "output_type": "stream",
     "text": [
      "_________________________________________________________________\n",
      "Layer (type)                 Output Shape              Param #   \n",
      "=================================================================\n",
      "embedding (Embedding)        (None, None, 16)          160000    \n",
      "_________________________________________________________________\n",
      "global_average_pooling1d (Gl (None, 16)                0         \n",
      "_________________________________________________________________\n",
      "dense (Dense)                (None, 16)                272       \n",
      "_________________________________________________________________\n",
      "dense_1 (Dense)              (None, 1)                 17        \n",
      "=================================================================\n",
      "Total params: 160,289\n",
      "Trainable params: 160,289\n",
      "Non-trainable params: 0\n",
      "_________________________________________________________________\n"
     ]
    }
   ],
   "source": [
    "#binary classification problem, model outputs a probability \n",
    "#(a single-unit layer with a sigmoid activation)\n",
    "\n",
    "# input shape is the vocabulary count used for the movie reviews (10,000 words)\n",
    "vocab_size = 10000\n",
    "\n",
    "model = keras.Sequential()\n",
    "#takes the integer-encoded vocabulary and looks up the embedding vector for each word-index\n",
    "model.add(keras.layers.Embedding(vocab_size, 16))\n",
    "#returns a fixed-length output vector for each example by averaging over the sequence dimension\n",
    "model.add(keras.layers.GlobalAveragePooling1D())\n",
    "#fixed-length output vector is piped through a fully-connected (Dense) layer with 16 hidden units\n",
    "model.add(keras.layers.Dense(16, activation=tf.nn.relu))\n",
    "#Using the sigmoid activation function, output is a float between 0 and 1, \n",
    "#representing a probability, or confidence level.\n",
    "model.add(keras.layers.Dense(1, activation=tf.nn.sigmoid))\n",
    "\n",
    "model.summary()"
   ]
  },
  {
   "cell_type": "code",
   "execution_count": 10,
   "metadata": {},
   "outputs": [],
   "source": [
    "#binary_crossentropy loss function\n",
    "model.compile(optimizer='adam',\n",
    "              loss='binary_crossentropy',\n",
    "              metrics=['acc'])"
   ]
  },
  {
   "cell_type": "code",
   "execution_count": 11,
   "metadata": {},
   "outputs": [],
   "source": [
    "#setting apart 10,000 examples from the original training data - validation set\n",
    "x_val = train_data[:10000]\n",
    "partial_x_train = train_data[10000:]\n",
    "\n",
    "y_val = train_labels[:10000]\n",
    "partial_y_train = train_labels[10000:]"
   ]
  },
  {
   "cell_type": "code",
   "execution_count": 12,
   "metadata": {},
   "outputs": [
    {
     "name": "stderr",
     "output_type": "stream",
     "text": [
      "C:\\ProgramData\\Anaconda3\\lib\\site-packages\\tensorflow\\python\\ops\\gradients_impl.py:112: UserWarning: Converting sparse IndexedSlices to a dense Tensor of unknown shape. This may consume a large amount of memory.\n",
      "  \"Converting sparse IndexedSlices to a dense Tensor of unknown shape. \"\n"
     ]
    },
    {
     "name": "stdout",
     "output_type": "stream",
     "text": [
      "Train on 15000 samples, validate on 10000 samples\n",
      "Epoch 1/40\n",
      "15000/15000 [==============================] - 1s 59us/step - loss: 0.6924 - acc: 0.5494 - val_loss: 0.6913 - val_acc: 0.6204\n",
      "Epoch 2/40\n",
      "15000/15000 [==============================] - 1s 33us/step - loss: 0.6885 - acc: 0.7187 - val_loss: 0.6850 - val_acc: 0.7042\n",
      "Epoch 3/40\n",
      "15000/15000 [==============================] - 0s 33us/step - loss: 0.6785 - acc: 0.7514 - val_loss: 0.6715 - val_acc: 0.7468\n",
      "Epoch 4/40\n",
      "15000/15000 [==============================] - 0s 33us/step - loss: 0.6586 - acc: 0.7503 - val_loss: 0.6483 - val_acc: 0.7710\n",
      "Epoch 5/40\n",
      "15000/15000 [==============================] - 0s 33us/step - loss: 0.6275 - acc: 0.7877 - val_loss: 0.6136 - val_acc: 0.7777\n",
      "Epoch 6/40\n",
      "15000/15000 [==============================] - 0s 33us/step - loss: 0.5856 - acc: 0.8038 - val_loss: 0.5721 - val_acc: 0.7884\n",
      "Epoch 7/40\n",
      "15000/15000 [==============================] - 0s 33us/step - loss: 0.5377 - acc: 0.8251 - val_loss: 0.5277 - val_acc: 0.8152\n",
      "Epoch 8/40\n",
      "15000/15000 [==============================] - 0s 33us/step - loss: 0.4893 - acc: 0.8442 - val_loss: 0.4851 - val_acc: 0.8296\n",
      "Epoch 9/40\n",
      "15000/15000 [==============================] - 0s 33us/step - loss: 0.4447 - acc: 0.8576 - val_loss: 0.4475 - val_acc: 0.8437\n",
      "Epoch 10/40\n",
      "15000/15000 [==============================] - 0s 33us/step - loss: 0.4047 - acc: 0.8721 - val_loss: 0.4158 - val_acc: 0.8510\n",
      "Epoch 11/40\n",
      "15000/15000 [==============================] - 0s 33us/step - loss: 0.3712 - acc: 0.8805 - val_loss: 0.3920 - val_acc: 0.8564\n",
      "Epoch 12/40\n",
      "15000/15000 [==============================] - 0s 33us/step - loss: 0.3434 - acc: 0.8877 - val_loss: 0.3691 - val_acc: 0.8638\n",
      "Epoch 13/40\n",
      "15000/15000 [==============================] - 1s 33us/step - loss: 0.3182 - acc: 0.8943 - val_loss: 0.3528 - val_acc: 0.8673\n",
      "Epoch 14/40\n",
      "15000/15000 [==============================] - 1s 34us/step - loss: 0.2975 - acc: 0.9005 - val_loss: 0.3386 - val_acc: 0.8722\n",
      "Epoch 15/40\n",
      "15000/15000 [==============================] - 1s 33us/step - loss: 0.2795 - acc: 0.9047 - val_loss: 0.3275 - val_acc: 0.8745\n",
      "Epoch 16/40\n",
      "15000/15000 [==============================] - 0s 33us/step - loss: 0.2641 - acc: 0.9089 - val_loss: 0.3184 - val_acc: 0.8767\n",
      "Epoch 17/40\n",
      "15000/15000 [==============================] - 1s 34us/step - loss: 0.2494 - acc: 0.9146 - val_loss: 0.3108 - val_acc: 0.8778\n",
      "Epoch 18/40\n",
      "15000/15000 [==============================] - 1s 35us/step - loss: 0.2366 - acc: 0.9193 - val_loss: 0.3045 - val_acc: 0.8804\n",
      "Epoch 19/40\n",
      "15000/15000 [==============================] - 0s 33us/step - loss: 0.2247 - acc: 0.9235 - val_loss: 0.2997 - val_acc: 0.8808\n",
      "Epoch 20/40\n",
      "15000/15000 [==============================] - 0s 33us/step - loss: 0.2142 - acc: 0.9255 - val_loss: 0.2953 - val_acc: 0.8822\n",
      "Epoch 21/40\n",
      "15000/15000 [==============================] - 0s 33us/step - loss: 0.2042 - acc: 0.9306 - val_loss: 0.2918 - val_acc: 0.8826\n",
      "Epoch 22/40\n",
      "15000/15000 [==============================] - 0s 33us/step - loss: 0.1950 - acc: 0.9348 - val_loss: 0.2896 - val_acc: 0.8825\n",
      "Epoch 23/40\n",
      "15000/15000 [==============================] - 0s 33us/step - loss: 0.1866 - acc: 0.9373 - val_loss: 0.2878 - val_acc: 0.8826\n",
      "Epoch 24/40\n",
      "15000/15000 [==============================] - 1s 34us/step - loss: 0.1782 - acc: 0.9419 - val_loss: 0.2857 - val_acc: 0.8844\n",
      "Epoch 25/40\n",
      "15000/15000 [==============================] - 0s 33us/step - loss: 0.1708 - acc: 0.9457 - val_loss: 0.2847 - val_acc: 0.8839\n",
      "Epoch 26/40\n",
      "15000/15000 [==============================] - 1s 34us/step - loss: 0.1635 - acc: 0.9477 - val_loss: 0.2842 - val_acc: 0.8845\n",
      "Epoch 27/40\n",
      "15000/15000 [==============================] - 0s 33us/step - loss: 0.1574 - acc: 0.9512 - val_loss: 0.2848 - val_acc: 0.8841\n",
      "Epoch 28/40\n",
      "15000/15000 [==============================] - 1s 34us/step - loss: 0.1510 - acc: 0.9535 - val_loss: 0.2840 - val_acc: 0.8861\n",
      "Epoch 29/40\n",
      "15000/15000 [==============================] - 1s 34us/step - loss: 0.1450 - acc: 0.9554 - val_loss: 0.2845 - val_acc: 0.8861\n",
      "Epoch 30/40\n",
      "15000/15000 [==============================] - 0s 33us/step - loss: 0.1400 - acc: 0.9576 - val_loss: 0.2858 - val_acc: 0.8858\n",
      "Epoch 31/40\n",
      "15000/15000 [==============================] - 0s 33us/step - loss: 0.1338 - acc: 0.9606 - val_loss: 0.2868 - val_acc: 0.8870\n",
      "Epoch 32/40\n",
      "15000/15000 [==============================] - 0s 33us/step - loss: 0.1290 - acc: 0.9623 - val_loss: 0.2885 - val_acc: 0.8863\n",
      "Epoch 33/40\n",
      "15000/15000 [==============================] - 0s 33us/step - loss: 0.1237 - acc: 0.9651 - val_loss: 0.2901 - val_acc: 0.8856\n",
      "Epoch 34/40\n",
      "15000/15000 [==============================] - 0s 33us/step - loss: 0.1192 - acc: 0.9667 - val_loss: 0.2927 - val_acc: 0.8852\n",
      "Epoch 35/40\n",
      "15000/15000 [==============================] - 0s 32us/step - loss: 0.1153 - acc: 0.9669 - val_loss: 0.2940 - val_acc: 0.8863\n",
      "Epoch 36/40\n",
      "15000/15000 [==============================] - 0s 33us/step - loss: 0.1104 - acc: 0.9703 - val_loss: 0.2967 - val_acc: 0.8843\n",
      "Epoch 37/40\n",
      "15000/15000 [==============================] - 0s 33us/step - loss: 0.1065 - acc: 0.9711 - val_loss: 0.2994 - val_acc: 0.8844\n",
      "Epoch 38/40\n",
      "15000/15000 [==============================] - 1s 34us/step - loss: 0.1031 - acc: 0.9724 - val_loss: 0.3025 - val_acc: 0.8841\n",
      "Epoch 39/40\n",
      "15000/15000 [==============================] - 0s 33us/step - loss: 0.0988 - acc: 0.9742 - val_loss: 0.3042 - val_acc: 0.8842\n",
      "Epoch 40/40\n",
      "15000/15000 [==============================] - 1s 34us/step - loss: 0.0952 - acc: 0.9762 - val_loss: 0.3074 - val_acc: 0.8848\n"
     ]
    }
   ],
   "source": [
    "#train the model for 40 epochs (iterations over all samples in the x_train and y_train) \n",
    "#in mini-batches of 512 samples\n",
    "\n",
    "#while training, monitor the model's loss and accuracy on the 10,000 samples from the \n",
    "#validation set\n",
    "history = model.fit(partial_x_train,\n",
    "                    partial_y_train,\n",
    "                    epochs=40,\n",
    "                    batch_size=512,\n",
    "                    validation_data=(x_val, y_val),\n",
    "                    verbose=1)"
   ]
  },
  {
   "cell_type": "code",
   "execution_count": 13,
   "metadata": {},
   "outputs": [
    {
     "name": "stdout",
     "output_type": "stream",
     "text": [
      "25000/25000 [==============================] - 0s 11us/step\n",
      "[0.3283764894294739, 0.87268]\n"
     ]
    }
   ],
   "source": [
    "#Evaluate model via - loss (a number which represents our error, lower values are better), \n",
    "#and accuracy.\n",
    "results = model.evaluate(test_data, test_labels)\n",
    "\n",
    "print(results)"
   ]
  },
  {
   "cell_type": "code",
   "execution_count": 15,
   "metadata": {},
   "outputs": [
    {
     "data": {
      "image/png": "[encoded data removed]",
      "text/plain": [
       "<Figure size 432x288 with 1 Axes>"
      ]
     },
     "metadata": {},
     "output_type": "display_data"
    }
   ],
   "source": [
    "#a dictionary with everything that happened during training\n",
    "history_dict = history.history\n",
    "history_dict.keys()\n",
    "\n",
    "#create a graph of accuracy and loss over time\n",
    "import matplotlib.pyplot as plt\n",
    "\n",
    "acc = history_dict['acc']\n",
    "val_acc = history_dict['val_acc']\n",
    "loss = history_dict['loss']\n",
    "val_loss = history_dict['val_loss']\n",
    "\n",
    "epochs = range(1, len(acc) + 1)\n",
    "\n",
    "# \"bo\" is for \"blue dot\"\n",
    "plt.plot(epochs, loss, 'bo', label='Training loss')\n",
    "# b is for \"solid blue line\"\n",
    "plt.plot(epochs, val_loss, 'b', label='Validation loss')\n",
    "plt.title('Training and validation loss')\n",
    "plt.xlabel('Epochs')\n",
    "plt.ylabel('Loss')\n",
    "plt.legend()\n",
    "\n",
    "plt.show()"
   ]
  },
  {
   "cell_type": "code",
   "execution_count": 16,
   "metadata": {},
   "outputs": [
    {
     "data": {
      "image/png": "[encoded data removed]",
      "text/plain": [
       "<Figure size 432x288 with 1 Axes>"
      ]
     },
     "metadata": {},
     "output_type": "display_data"
    }
   ],
   "source": [
    "plt.clf()   # clear figure\n",
    "\n",
    "plt.plot(epochs, acc, 'bo', label='Training acc')\n",
    "plt.plot(epochs, val_acc, 'b', label='Validation acc')\n",
    "plt.title('Training and validation accuracy')\n",
    "plt.xlabel('Epochs')\n",
    "plt.ylabel('Accuracy')\n",
    "plt.legend()\n",
    "\n",
    "plt.show()"
   ]
  },
  {
   "cell_type": "markdown",
   "metadata": {},
   "source": [
    "The training loss decreases with each epoch and the training accuracy increases with each epoch."
   ]
  },
  {
   "cell_type": "markdown",
   "metadata": {},
   "source": [
    "This isn't the case for the validation loss and accuracy—they seem to peak after about twenty epochs. This is an example of overfitting: the model performs better on the training data than it does on data it has never seen before."
   ]
  },
  {
   "cell_type": "markdown",
   "metadata": {},
   "source": [
    "After this point, the model over-optimizes and learns representations specific to the training data that do not generalize to test data."
   ]
  },
  {
   "cell_type": "markdown",
   "metadata": {},
   "source": [
    "For this case, overfitting can be prevented by stopping the training after twenty or so epochs."
   ]
  }
 ],
 "metadata": {
  "kernelspec": {
   "display_name": "Python 3",
   "language": "python",
   "name": "python3"
  },
  "language_info": {
   "codemirror_mode": {
    "name": "ipython",
    "version": 3
   },
   "file_extension": ".py",
   "mimetype": "text/x-python",
   "name": "python",
   "nbconvert_exporter": "python",
   "pygments_lexer": "ipython3",
   "version": "3.6.5"
  }
 },
 "nbformat": 4,
 "nbformat_minor": 2
}
